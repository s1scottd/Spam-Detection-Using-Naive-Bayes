{
  "nbformat": 4,
  "nbformat_minor": 0,
  "metadata": {
    "colab": {
      "private_outputs": true,
      "provenance": [],
      "gpuType": "T4",
      "authorship_tag": "ABX9TyN5wzyRZKLREWsMTZORAurX",
      "include_colab_link": true
    },
    "kernelspec": {
      "name": "python3",
      "display_name": "Python 3"
    },
    "language_info": {
      "name": "python"
    },
    "accelerator": "GPU"
  },
  "cells": [
    {
      "cell_type": "markdown",
      "metadata": {
        "id": "view-in-github",
        "colab_type": "text"
      },
      "source": [
        "<a href=\"https://colab.research.google.com/github/s1scottd/Spam-Detection-Using-Naive-Bayes/blob/main/Spam_Detection.ipynb\" target=\"_parent\"><img src=\"https://colab.research.google.com/assets/colab-badge.svg\" alt=\"Open In Colab\"/></a>"
      ]
    },
    {
      "cell_type": "markdown",
      "source": [
        "#Spam Detection Using Naive Bayes"
      ],
      "metadata": {
        "id": "JKIlXP5O_3SM"
      }
    },
    {
      "cell_type": "markdown",
      "source": [
        "Import the Necessary Libraries"
      ],
      "metadata": {
        "id": "4GDRIDOg9q_h"
      }
    },
    {
      "cell_type": "code",
      "source": [
        "import numpy as np\n",
        "import pandas as pd\n",
        "from sklearn.model_selection import train_test_split\n",
        "from sklearn.feature_extraction.text import CountVectorizer\n",
        "from sklearn.naive_bayes import MultinomialNB\n",
        "from sklearn.metrics import accuracy_score, confusion_matrix"
      ],
      "metadata": {
        "id": "Nnq6BqFM9q0K"
      },
      "execution_count": null,
      "outputs": []
    },
    {
      "cell_type": "markdown",
      "source": [
        "Load the SpamBase dataset"
      ],
      "metadata": {
        "id": "_9dVAOLR9qph"
      }
    },
    {
      "cell_type": "code",
      "source": [
        "url = 'https://archive.ics.uci.edu/ml/machine-learning-databases/spambase/spambase.data'\n",
        "spam_data = pd.read_csv(url, header=None)"
      ],
      "metadata": {
        "id": "VS6Y_kW69qeQ"
      },
      "execution_count": null,
      "outputs": []
    },
    {
      "cell_type": "markdown",
      "source": [
        "Assign column names to the dataset"
      ],
      "metadata": {
        "id": "F4gXoKfW9qTH"
      }
    },
    {
      "cell_type": "code",
      "source": [
        "spam_data.columns = [\n",
        "    'word_freq_make', 'word_freq_address', 'word_freq_all', 'word_freq_3d',\n",
        "    'word_freq_our', 'word_freq_over', 'word_freq_remove', 'word_freq_internet',\n",
        "    'word_freq_order', 'word_freq_mail', 'word_freq_receive', 'word_freq_will',\n",
        "    'word_freq_people', 'word_freq_report', 'word_freq_addresses', 'word_freq_free',\n",
        "    'word_freq_business', 'word_freq_email', 'word_freq_you', 'word_freq_credit',\n",
        "    'word_freq_your', 'word_freq_font', 'word_freq_000', 'word_freq_money',\n",
        "    'word_freq_hp', 'word_freq_hpl', 'word_freq_george', 'word_freq_650',\n",
        "    'word_freq_lab', 'word_freq_labs', 'word_freq_telnet', 'word_freq_857',\n",
        "    'word_freq_data', 'word_freq_415', 'word_freq_85', 'word_freq_technology',\n",
        "    'word_freq_1999', 'word_freq_parts', 'word_freq_pm', 'word_freq_direct',\n",
        "    'word_freq_cs', 'word_freq_meeting', 'word_freq_original', 'word_freq_project',\n",
        "    'word_freq_re', 'word_freq_edu', 'word_freq_table', 'word_freq_conference',\n",
        "    'char_freq_;', 'char_freq_(', 'char_freq_[', 'char_freq_!', 'char_freq_$',\n",
        "    'char_freq_#', 'capital_run_length_average', 'capital_run_length_longest',\n",
        "    'capital_run_length_total', 'is_spam'\n",
        "]"
      ],
      "metadata": {
        "id": "pDmeSAJ49qD0"
      },
      "execution_count": null,
      "outputs": []
    },
    {
      "cell_type": "markdown",
      "source": [
        "Split the data into features (X) and target (y)"
      ],
      "metadata": {
        "id": "XvAVA5nG9p30"
      }
    },
    {
      "cell_type": "code",
      "source": [
        "X = spam_data.drop('is_spam', axis=1)\n",
        "y = spam_data['is_spam']"
      ],
      "metadata": {
        "id": "Hk9CqPIo9ppw"
      },
      "execution_count": null,
      "outputs": []
    },
    {
      "cell_type": "markdown",
      "source": [
        " Split the data into training and testing sets"
      ],
      "metadata": {
        "id": "AcJmspwL9pd4"
      }
    },
    {
      "cell_type": "code",
      "source": [
        "X_train, X_test, y_train, y_test = train_test_split(X, y, test_size=0.2, random_state=42)"
      ],
      "metadata": {
        "id": "ekOiwJDj9pKr"
      },
      "execution_count": null,
      "outputs": []
    },
    {
      "cell_type": "markdown",
      "source": [
        "Create a CountVectorizer object to convert text data into numerical features"
      ],
      "metadata": {
        "id": "3av86xJn-4Ss"
      }
    },
    {
      "cell_type": "code",
      "source": [
        "vectorizer = CountVectorizer()\n",
        "X_train_transformed = vectorizer.fit_transform(X_train)\n",
        "X_test_transformed = vectorizer.transform(X_test)"
      ],
      "metadata": {
        "id": "ZFEgWjDy-44k"
      },
      "execution_count": null,
      "outputs": []
    },
    {
      "cell_type": "markdown",
      "source": [
        "Train a Naive Bayes classifier"
      ],
      "metadata": {
        "id": "wxdEW1Ol_BCF"
      }
    },
    {
      "cell_type": "code",
      "source": [
        "naive_bayes = MultinomialNB()\n",
        "naive_bayes.fit(X_train_transformed, y_train)"
      ],
      "metadata": {
        "id": "HU7p53we_Bon"
      },
      "execution_count": null,
      "outputs": []
    },
    {
      "cell_type": "markdown",
      "source": [
        "Make predictions on the test set"
      ],
      "metadata": {
        "id": "cMMR3iKF_J9k"
      }
    },
    {
      "cell_type": "code",
      "source": [
        "y_pred = naive_bayes.predict(X_test_transformed)"
      ],
      "metadata": {
        "id": "qNaMj4tl_KeE"
      },
      "execution_count": null,
      "outputs": []
    },
    {
      "cell_type": "markdown",
      "source": [
        "Evaluate the model"
      ],
      "metadata": {
        "id": "Bk_NhWjZ_RwI"
      }
    },
    {
      "cell_type": "code",
      "source": [
        "accuracy = accuracy_score(y_test, y_pred)\n",
        "confusion = confusion_matrix(y_test, y_pred)"
      ],
      "metadata": {
        "id": "kqa-RtVL_SF6"
      },
      "execution_count": null,
      "outputs": []
    },
    {
      "cell_type": "markdown",
      "source": [
        "Print the results"
      ],
      "metadata": {
        "id": "2w8rcyCa_gat"
      }
    },
    {
      "cell_type": "code",
      "source": [
        "print('Accuracy:', accuracy)\n",
        "print('Confusion Matrix:')\n",
        "print(confusion)"
      ],
      "metadata": {
        "id": "mOpAOVMD_gtk"
      },
      "execution_count": null,
      "outputs": []
    }
  ]
}